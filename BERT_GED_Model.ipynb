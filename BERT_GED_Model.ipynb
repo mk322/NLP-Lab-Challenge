{
  "cells": [
    {
      "cell_type": "markdown",
      "metadata": {
        "colab_type": "text",
        "id": "3zIhIuKkqrIa"
      },
      "source": [
        "# **Grammar Error Detection using BERT**\n",
        "\n",
        "\n",
        "***FIne tune BERT model with CoLA dataset for single sentence classification task***\n",
        "\n",
        "Sunil Chomal | sunilchomal@gmail.com"
      ]
    },
    {
      "cell_type": "code",
      "execution_count": 24,
      "metadata": {
        "colab": {
          "base_uri": "https://localhost:8080/",
          "height": 306,
          "resources": {
            "http://localhost:8080/nbextensions/google.colab/GED.png": {
              "data": "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",
              "headers": [
                [
                  "content-type",
                  "image/png"
                ]
              ],
              "ok": true,
              "status": 200,
              "status_text": ""
            }
          }
        },
        "colab_type": "code",
        "id": "h_oI8_2Oq78F",
        "outputId": "9a902a50-00a0-47fb-d09b-07100f318d07"
      },
      "outputs": [
        {
          "data": {
            "text/html": [
              "<img src='/nbextensions/google.colab/GED.png' />\n"
            ],
            "text/plain": [
              "<IPython.core.display.HTML object>"
            ]
          },
          "metadata": {},
          "output_type": "display_data"
        }
      ],
      "source": [
        "%%html\n",
        "<img src='/nbextensions/google.colab/GED.png' />"
      ]
    },
    {
      "cell_type": "markdown",
      "metadata": {
        "colab_type": "text",
        "id": "lOyxKb5frPzC"
      },
      "source": [
        "•\tWe use the bert-base-uncased as the pre trained model. It consists of 12-layer, 768-hidden, 12-heads, 110M parameters and is trained on lower-cased English text. \n",
        "\n",
        "•\tFor fine-tuning we have used CoLA dataset for single sentence classification. \n",
        "\n",
        "•\tBertForSequenceClassification is a BERT model transformer with a sequence classification/regression head on top (a linear layer on top of the pooled output). \n",
        "\n",
        "•\tWe trained the network for 4 epochs, and on Google Colab with a Tesla K80 GPU, it takes about 25 minutes. After training we get a training loss of 0.1 and a validation accuracy of 0.81.\n",
        "\n",
        "•\tUsing the out of domain validation data to calculate the Matthews correlation coefficient, we achieve a value of 0.44\n"
      ]
    },
    {
      "cell_type": "code",
      "execution_count": 42,
      "metadata": {
        "colab": {
          "base_uri": "https://localhost:8080/",
          "height": 34
        },
        "colab_type": "code",
        "id": "Bs-CfpZrH2VC",
        "outputId": "5cf1bb5b-2dd5-4e4f-fabb-419862fcdcae"
      },
      "outputs": [
        {
          "name": "stdout",
          "output_type": "stream",
          "text": [
            "Found GPU at: \n"
          ]
        }
      ],
      "source": [
        "import tensorflow as tf\n",
        "\n",
        "# Check to confirm that GPU is available\n",
        "device_name = tf.test.gpu_device_name()\n",
        "#if device_name != '/device:GPU:0':\n",
        "#  raise SystemError ('GPU device not found')\n",
        "\n",
        "print('Found GPU at: {}'.format(device_name))\n",
        "\n"
      ]
    },
    {
      "cell_type": "code",
      "execution_count": 26,
      "metadata": {
        "colab": {
          "base_uri": "https://localhost:8080/",
          "height": 493
        },
        "colab_type": "code",
        "id": "r_fey_VSIdEX",
        "outputId": "9d6d3329-a36c-49cb-f54a-c1a3913fe457"
      },
      "outputs": [
        {
          "name": "stdout",
          "output_type": "stream",
          "text": [
            "Requirement already satisfied: pytorch-pretrained-bert in c:\\users\\10494\\anaconda3\\lib\\site-packages (0.6.2)\n",
            "Requirement already satisfied: tqdm in c:\\users\\10494\\anaconda3\\lib\\site-packages (from pytorch-pretrained-bert) (4.62.3)\n",
            "Requirement already satisfied: torch>=0.4.1 in c:\\users\\10494\\anaconda3\\lib\\site-packages (from pytorch-pretrained-bert) (1.10.2)\n",
            "Requirement already satisfied: numpy in c:\\users\\10494\\anaconda3\\lib\\site-packages (from pytorch-pretrained-bert) (1.22.2)\n",
            "Requirement already satisfied: regex in c:\\users\\10494\\anaconda3\\lib\\site-packages (from pytorch-pretrained-bert) (2021.8.3)\n",
            "Requirement already satisfied: requests in c:\\users\\10494\\anaconda3\\lib\\site-packages (from pytorch-pretrained-bert) (2.26.0)\n",
            "Requirement already satisfied: boto3 in c:\\users\\10494\\anaconda3\\lib\\site-packages (from pytorch-pretrained-bert) (1.21.14)\n",
            "Requirement already satisfied: typing_extensions in c:\\users\\10494\\anaconda3\\lib\\site-packages (from torch>=0.4.1->pytorch-pretrained-bert) (3.10.0.2)\n",
            "Requirement already satisfied: s3transfer<0.6.0,>=0.5.0 in c:\\users\\10494\\anaconda3\\lib\\site-packages (from boto3->pytorch-pretrained-bert) (0.5.2)\n",
            "Requirement already satisfied: botocore<1.25.0,>=1.24.14 in c:\\users\\10494\\anaconda3\\lib\\site-packages (from boto3->pytorch-pretrained-bert) (1.24.14)\n",
            "Requirement already satisfied: jmespath<1.0.0,>=0.7.1 in c:\\users\\10494\\anaconda3\\lib\\site-packages (from boto3->pytorch-pretrained-bert) (0.10.0)\n",
            "Requirement already satisfied: python-dateutil<3.0.0,>=2.1 in c:\\users\\10494\\anaconda3\\lib\\site-packages (from botocore<1.25.0,>=1.24.14->boto3->pytorch-pretrained-bert) (2.8.2)\n",
            "Requirement already satisfied: urllib3<1.27,>=1.25.4 in c:\\users\\10494\\anaconda3\\lib\\site-packages (from botocore<1.25.0,>=1.24.14->boto3->pytorch-pretrained-bert) (1.26.8)\n",
            "Requirement already satisfied: six>=1.5 in c:\\users\\10494\\anaconda3\\lib\\site-packages (from python-dateutil<3.0.0,>=2.1->botocore<1.25.0,>=1.24.14->boto3->pytorch-pretrained-bert) (1.12.0)\n",
            "Requirement already satisfied: charset-normalizer~=2.0.0 in c:\\users\\10494\\anaconda3\\lib\\site-packages (from requests->pytorch-pretrained-bert) (2.0.4)\n",
            "Requirement already satisfied: certifi>=2017.4.17 in c:\\users\\10494\\anaconda3\\lib\\site-packages (from requests->pytorch-pretrained-bert) (2019.3.9)\n",
            "Requirement already satisfied: idna<4,>=2.5 in c:\\users\\10494\\anaconda3\\lib\\site-packages (from requests->pytorch-pretrained-bert) (2.8)\n",
            "Requirement already satisfied: colorama in c:\\users\\10494\\anaconda3\\lib\\site-packages (from tqdm->pytorch-pretrained-bert) (0.4.4)\n"
          ]
        }
      ],
      "source": [
        "# install pytorch_pretrained_bert the previous version of Pytorch-Transformers\n",
        "#!pip install pytorch-pretrained-bert"
      ]
    },
    {
      "cell_type": "code",
      "execution_count": 43,
      "metadata": {
        "colab": {
          "base_uri": "https://localhost:8080/",
          "height": 34
        },
        "colab_type": "code",
        "id": "v5J3Sg8BI5d1",
        "outputId": "12790aa5-546f-479f-8c2a-d49677533614"
      },
      "outputs": [],
      "source": [
        "import torch\n",
        "from torch.utils.data import TensorDataset, DataLoader, RandomSampler, SequentialSampler\n",
        "from keras.preprocessing.sequence import pad_sequences\n",
        "from sklearn.model_selection import train_test_split\n",
        "from pytorch_pretrained_bert import BertTokenizer, BertConfig\n",
        "from pytorch_pretrained_bert import BertAdam, BertForSequenceClassification\n",
        "from tqdm import tqdm , trange\n",
        "import pandas as pd\n",
        "import io\n",
        "import numpy as np\n",
        "import matplotlib.pyplot as plt"
      ]
    },
    {
      "cell_type": "code",
      "execution_count": 44,
      "metadata": {
        "colab": {
          "base_uri": "https://localhost:8080/",
          "height": 34
        },
        "colab_type": "code",
        "id": "XRi3RT4HJJF3",
        "outputId": "5c3c1f44-54dd-4828-ce27-d19d66027012"
      },
      "outputs": [
        {
          "data": {
            "text/plain": [
              "'NVIDIA GeForce RTX 3070 Laptop GPU'"
            ]
          },
          "execution_count": 44,
          "metadata": {},
          "output_type": "execute_result"
        }
      ],
      "source": [
        "# Check to confirm the specific GPU model\n",
        "torch.cuda.empty_cache()\n",
        "device = torch.device(\"cuda\" if torch.cuda.is_available() else \"cpu\")\n",
        "n_gpu = torch.cuda.device_count()\n",
        "torch.cuda.get_device_name(0)"
      ]
    },
    {
      "cell_type": "code",
      "execution_count": 45,
      "metadata": {
        "colab": {},
        "colab_type": "code",
        "id": "ekPBgVofJcWW"
      },
      "outputs": [],
      "source": [
        "# Download Data\n",
        "# source: https://nyu-mll.github.io/CoLA\n",
        "# from google.colab import files\n",
        "# uploaded = files.upload()"
      ]
    },
    {
      "cell_type": "code",
      "execution_count": 46,
      "metadata": {
        "colab": {
          "base_uri": "https://localhost:8080/",
          "height": 391
        },
        "colab_type": "code",
        "id": "8wChGOUbFlaz",
        "outputId": "2f7a6996-efc3-4f99-88f5-209a1204a2ed"
      },
      "outputs": [],
      "source": [
        "# Get CoLA dataset from its official source\n",
        "\n",
        "#!wget https://nyu-mll.github.io/CoLA/cola_public_1.1.zip\n",
        "#!unzip cola_public_1.1.zip \n",
        "#!cp ./cola_public/raw/in_domain_train.tsv .\n",
        "#!cp ./cola_public/raw/out_of_domain_dev.tsv ."
      ]
    },
    {
      "cell_type": "code",
      "execution_count": 47,
      "metadata": {
        "colab": {
          "base_uri": "https://localhost:8080/",
          "height": 34
        },
        "colab_type": "code",
        "id": "jHQ4NHBjKUaz",
        "outputId": "d3118d43-fb22-4e27-aded-605694dfff7e"
      },
      "outputs": [
        {
          "data": {
            "text/html": [
              "<div>\n",
              "<style scoped>\n",
              "    .dataframe tbody tr th:only-of-type {\n",
              "        vertical-align: middle;\n",
              "    }\n",
              "\n",
              "    .dataframe tbody tr th {\n",
              "        vertical-align: top;\n",
              "    }\n",
              "\n",
              "    .dataframe thead th {\n",
              "        text-align: right;\n",
              "    }\n",
              "</style>\n",
              "<table border=\"1\" class=\"dataframe\">\n",
              "  <thead>\n",
              "    <tr style=\"text-align: right;\">\n",
              "      <th></th>\n",
              "      <th>text</th>\n",
              "      <th>label</th>\n",
              "    </tr>\n",
              "  </thead>\n",
              "  <tbody>\n",
              "    <tr>\n",
              "      <th>0</th>\n",
              "      <td>en route , they pick up a seemingly-harmless h...</td>\n",
              "      <td>1</td>\n",
              "    </tr>\n",
              "    <tr>\n",
              "      <th>1</th>\n",
              "      <td>en route , they pick up a seemingly-harmless h...</td>\n",
              "      <td>0</td>\n",
              "    </tr>\n",
              "    <tr>\n",
              "      <th>2</th>\n",
              "      <td>jobs, however, are not created by supporting a...</td>\n",
              "      <td>1</td>\n",
              "    </tr>\n",
              "  </tbody>\n",
              "</table>\n",
              "</div>"
            ],
            "text/plain": [
              "                                                text  label\n",
              "0  en route , they pick up a seemingly-harmless h...      1\n",
              "1  en route , they pick up a seemingly-harmless h...      0\n",
              "2  jobs, however, are not created by supporting a...      1"
            ]
          },
          "execution_count": 47,
          "metadata": {},
          "output_type": "execute_result"
        }
      ],
      "source": [
        "#Move Data to a Panda DataFrame\n",
        "df = pd.read_csv ('train.tsv', delimiter='\\t', header=None, encoding='cp850',\n",
        "                  names=['text', 'label'])\n",
        "\n",
        "df.shape\n",
        "\n",
        "df[:3]"
      ]
    },
    {
      "cell_type": "code",
      "execution_count": 48,
      "metadata": {
        "colab": {},
        "colab_type": "code",
        "id": "ny4TaHaGK7Ja"
      },
      "outputs": [],
      "source": [
        "# Sentence and Label Lists\n",
        "df = df[:20000]\n",
        "sentences = df.text.values\n",
        "sentences = [\"[CLS]\" + sentence + \" [SEP]\" for sentence in sentences]\n",
        "labels = df.label.values"
      ]
    },
    {
      "cell_type": "code",
      "execution_count": 49,
      "metadata": {
        "colab": {},
        "colab_type": "code",
        "id": "pporYqXxLTxR"
      },
      "outputs": [
        {
          "name": "stdout",
          "output_type": "stream",
          "text": [
            "Tokenize version of the the first sentence:\n",
            "['[', 'cl', '##s', ']', 'en', 'route', ',', 'they', 'pick', 'up', 'a', 'seemingly', '-', 'harmless', 'hitch', '##hi', '##ker', ',', 'and', 'continue', 'their', 'journey', ',', 'only', 'for', 'their', 'car', 'to', 'break', 'down', 'in', 'a', 'deserted', 'motel', 'on', 'a', 'lonely', 'highway', '.', '[SEP]']\n"
          ]
        }
      ],
      "source": [
        "# Tokenize Inputs\n",
        "\n",
        "tokenizer = BertTokenizer.from_pretrained('bert-base-uncased', \n",
        "                                          do_lower_case = True)\n",
        "tokenized_texts = [tokenizer.tokenize(sent) for sent in sentences]\n",
        "print(\"Tokenize version of the the first sentence:\")\n",
        "print(tokenized_texts[0])"
      ]
    },
    {
      "cell_type": "code",
      "execution_count": 50,
      "metadata": {
        "colab": {},
        "colab_type": "code",
        "id": "E0Dmi8OLNFS0"
      },
      "outputs": [],
      "source": [
        "# Padding Sentences\n",
        "# Set the maximum sequence length. The longest sequence in our training set\n",
        "# is 47, but we'll leave room on the end anyway.\n",
        "# In the original paper, the authors used a length of 512.\n",
        "MAX_LEN = 128\n",
        "\n",
        "# Pad our input tokens\n",
        "input_ids = pad_sequences(\n",
        "    [tokenizer.convert_tokens_to_ids(txt) for txt in tokenized_texts], \n",
        "    maxlen=MAX_LEN, dtype=\"long\", truncating=\"post\", padding=\"post\"\n",
        "    )\n",
        "\n",
        "# Index Numbers and Padding\n",
        "input_ids = [tokenizer.convert_tokens_to_ids(x) for x in tokenized_texts]\n",
        "\n",
        "# pad sentences\n",
        "input_ids = pad_sequences(input_ids, maxlen=MAX_LEN, \n",
        "                          dtype =\"long\", truncating=\"post\",padding =\"post\")\n"
      ]
    },
    {
      "cell_type": "code",
      "execution_count": 51,
      "metadata": {
        "colab": {},
        "colab_type": "code",
        "id": "99Ekys7eOvlE"
      },
      "outputs": [],
      "source": [
        "# Attention masks\n",
        "\n",
        "# Create attention masks\n",
        "attention_masks = []\n",
        "\n",
        "# Create a mask of 1s for each token followed by 0s for padding\n",
        "for seq in input_ids:\n",
        "  seq_mask = [float(i > 0) for i in seq]\n",
        "  attention_masks.append(seq_mask)\n"
      ]
    },
    {
      "cell_type": "code",
      "execution_count": 52,
      "metadata": {
        "colab": {},
        "colab_type": "code",
        "id": "Nhqrt4noPeBO"
      },
      "outputs": [],
      "source": [
        "# Train and Validation Set\n",
        "\n",
        "train_inputs, validation_inputs, train_labels, validation_labels = \\\n",
        "  train_test_split(input_ids, labels, random_state=2018, test_size=0.1)\n",
        "\n",
        "train_masks, validation_masks , _, _ = \\\n",
        "  train_test_split(attention_masks, input_ids, random_state=2018, test_size=0.1)\n",
        "  \n",
        "# transform all data into torch tensors\n",
        "\n",
        "train_inputs = torch.tensor(train_inputs)\n",
        "validation_inputs = torch.tensor(validation_inputs)\n",
        "train_labels = torch.tensor(train_labels)\n",
        "validation_labels = torch.tensor(validation_labels)\n",
        "train_masks = torch.tensor(train_masks)\n",
        "validation_masks = torch.tensor(validation_masks)"
      ]
    },
    {
      "cell_type": "code",
      "execution_count": 53,
      "metadata": {
        "colab": {},
        "colab_type": "code",
        "id": "W9o4wsP6QjG0"
      },
      "outputs": [],
      "source": [
        "# Preparation for Training\n",
        "\n",
        "# Select a batch size for training. For fine tuning BERT on a\n",
        "# specific task , BERT authors recommend a batch size of 16 or 32\n",
        "batch_size = 32\n",
        "\n",
        "# Create an iterator of our data with torch DataLoader\n",
        "# This helps save on memory during training because, unlike a for loop, \n",
        "# with iterator the entire dataset does not need to be loaded into memory\n",
        "\n",
        "train_data = TensorDataset(train_inputs, train_masks, train_labels)\n",
        "train_sampler = RandomSampler(train_data)\n",
        "train_dataloader = \\\n",
        "  DataLoader(train_data, sampler=train_sampler, batch_size=batch_size)\n",
        "\n",
        "validation_data = \\\n",
        "  TensorDataset(validation_inputs, validation_masks, validation_labels)\n",
        "validation_sampler = SequentialSampler(validation_data)\n",
        "validation_dataloader = \\\n",
        "  DataLoader(validation_data, sampler=validation_sampler, batch_size=batch_size)\n"
      ]
    },
    {
      "cell_type": "code",
      "execution_count": 54,
      "metadata": {
        "colab": {
          "base_uri": "https://localhost:8080/",
          "height": 1000
        },
        "colab_type": "code",
        "id": "BTbpNSYZR6Sl",
        "outputId": "a281d9de-a647-435c-fe74-2abb2ccea824"
      },
      "outputs": [
        {
          "ename": "RuntimeError",
          "evalue": "CUDA out of memory. Tried to allocate 90.00 MiB (GPU 0; 8.00 GiB total capacity; 6.24 GiB already allocated; 0 bytes free; 6.34 GiB reserved in total by PyTorch) If reserved memory is >> allocated memory try setting max_split_size_mb to avoid fragmentation.  See documentation for Memory Management and PYTORCH_CUDA_ALLOC_CONF",
          "output_type": "error",
          "traceback": [
            "\u001b[1;31m---------------------------------------------------------------------------\u001b[0m",
            "\u001b[1;31mRuntimeError\u001b[0m                              Traceback (most recent call last)",
            "\u001b[1;32m~\\AppData\\Local\\Temp/ipykernel_34688/2516482965.py\u001b[0m in \u001b[0;36m<module>\u001b[1;34m\u001b[0m\n\u001b[0;32m      5\u001b[0m                                                       num_labels=2)\n\u001b[0;32m      6\u001b[0m \u001b[1;33m\u001b[0m\u001b[0m\n\u001b[1;32m----> 7\u001b[1;33m \u001b[0mmodel\u001b[0m\u001b[1;33m.\u001b[0m\u001b[0mcuda\u001b[0m\u001b[1;33m(\u001b[0m\u001b[1;33m)\u001b[0m\u001b[1;33m\u001b[0m\u001b[1;33m\u001b[0m\u001b[0m\n\u001b[0m",
            "\u001b[1;32m~\\anaconda3\\lib\\site-packages\\torch\\nn\\modules\\module.py\u001b[0m in \u001b[0;36mcuda\u001b[1;34m(self, device)\u001b[0m\n\u001b[0;32m    678\u001b[0m             \u001b[0mModule\u001b[0m\u001b[1;33m:\u001b[0m \u001b[0mself\u001b[0m\u001b[1;33m\u001b[0m\u001b[1;33m\u001b[0m\u001b[0m\n\u001b[0;32m    679\u001b[0m         \"\"\"\n\u001b[1;32m--> 680\u001b[1;33m         \u001b[1;32mreturn\u001b[0m \u001b[0mself\u001b[0m\u001b[1;33m.\u001b[0m\u001b[0m_apply\u001b[0m\u001b[1;33m(\u001b[0m\u001b[1;32mlambda\u001b[0m \u001b[0mt\u001b[0m\u001b[1;33m:\u001b[0m \u001b[0mt\u001b[0m\u001b[1;33m.\u001b[0m\u001b[0mcuda\u001b[0m\u001b[1;33m(\u001b[0m\u001b[0mdevice\u001b[0m\u001b[1;33m)\u001b[0m\u001b[1;33m)\u001b[0m\u001b[1;33m\u001b[0m\u001b[1;33m\u001b[0m\u001b[0m\n\u001b[0m\u001b[0;32m    681\u001b[0m \u001b[1;33m\u001b[0m\u001b[0m\n\u001b[0;32m    682\u001b[0m     \u001b[1;32mdef\u001b[0m \u001b[0mxpu\u001b[0m\u001b[1;33m(\u001b[0m\u001b[0mself\u001b[0m\u001b[1;33m:\u001b[0m \u001b[0mT\u001b[0m\u001b[1;33m,\u001b[0m \u001b[0mdevice\u001b[0m\u001b[1;33m:\u001b[0m \u001b[0mOptional\u001b[0m\u001b[1;33m[\u001b[0m\u001b[0mUnion\u001b[0m\u001b[1;33m[\u001b[0m\u001b[0mint\u001b[0m\u001b[1;33m,\u001b[0m \u001b[0mdevice\u001b[0m\u001b[1;33m]\u001b[0m\u001b[1;33m]\u001b[0m \u001b[1;33m=\u001b[0m \u001b[1;32mNone\u001b[0m\u001b[1;33m)\u001b[0m \u001b[1;33m->\u001b[0m \u001b[0mT\u001b[0m\u001b[1;33m:\u001b[0m\u001b[1;33m\u001b[0m\u001b[1;33m\u001b[0m\u001b[0m\n",
            "\u001b[1;32m~\\anaconda3\\lib\\site-packages\\torch\\nn\\modules\\module.py\u001b[0m in \u001b[0;36m_apply\u001b[1;34m(self, fn)\u001b[0m\n\u001b[0;32m    568\u001b[0m     \u001b[1;32mdef\u001b[0m \u001b[0m_apply\u001b[0m\u001b[1;33m(\u001b[0m\u001b[0mself\u001b[0m\u001b[1;33m,\u001b[0m \u001b[0mfn\u001b[0m\u001b[1;33m)\u001b[0m\u001b[1;33m:\u001b[0m\u001b[1;33m\u001b[0m\u001b[1;33m\u001b[0m\u001b[0m\n\u001b[0;32m    569\u001b[0m         \u001b[1;32mfor\u001b[0m \u001b[0mmodule\u001b[0m \u001b[1;32min\u001b[0m \u001b[0mself\u001b[0m\u001b[1;33m.\u001b[0m\u001b[0mchildren\u001b[0m\u001b[1;33m(\u001b[0m\u001b[1;33m)\u001b[0m\u001b[1;33m:\u001b[0m\u001b[1;33m\u001b[0m\u001b[1;33m\u001b[0m\u001b[0m\n\u001b[1;32m--> 570\u001b[1;33m             \u001b[0mmodule\u001b[0m\u001b[1;33m.\u001b[0m\u001b[0m_apply\u001b[0m\u001b[1;33m(\u001b[0m\u001b[0mfn\u001b[0m\u001b[1;33m)\u001b[0m\u001b[1;33m\u001b[0m\u001b[1;33m\u001b[0m\u001b[0m\n\u001b[0m\u001b[0;32m    571\u001b[0m \u001b[1;33m\u001b[0m\u001b[0m\n\u001b[0;32m    572\u001b[0m         \u001b[1;32mdef\u001b[0m \u001b[0mcompute_should_use_set_data\u001b[0m\u001b[1;33m(\u001b[0m\u001b[0mtensor\u001b[0m\u001b[1;33m,\u001b[0m \u001b[0mtensor_applied\u001b[0m\u001b[1;33m)\u001b[0m\u001b[1;33m:\u001b[0m\u001b[1;33m\u001b[0m\u001b[1;33m\u001b[0m\u001b[0m\n",
            "\u001b[1;32m~\\anaconda3\\lib\\site-packages\\torch\\nn\\modules\\module.py\u001b[0m in \u001b[0;36m_apply\u001b[1;34m(self, fn)\u001b[0m\n\u001b[0;32m    568\u001b[0m     \u001b[1;32mdef\u001b[0m \u001b[0m_apply\u001b[0m\u001b[1;33m(\u001b[0m\u001b[0mself\u001b[0m\u001b[1;33m,\u001b[0m \u001b[0mfn\u001b[0m\u001b[1;33m)\u001b[0m\u001b[1;33m:\u001b[0m\u001b[1;33m\u001b[0m\u001b[1;33m\u001b[0m\u001b[0m\n\u001b[0;32m    569\u001b[0m         \u001b[1;32mfor\u001b[0m \u001b[0mmodule\u001b[0m \u001b[1;32min\u001b[0m \u001b[0mself\u001b[0m\u001b[1;33m.\u001b[0m\u001b[0mchildren\u001b[0m\u001b[1;33m(\u001b[0m\u001b[1;33m)\u001b[0m\u001b[1;33m:\u001b[0m\u001b[1;33m\u001b[0m\u001b[1;33m\u001b[0m\u001b[0m\n\u001b[1;32m--> 570\u001b[1;33m             \u001b[0mmodule\u001b[0m\u001b[1;33m.\u001b[0m\u001b[0m_apply\u001b[0m\u001b[1;33m(\u001b[0m\u001b[0mfn\u001b[0m\u001b[1;33m)\u001b[0m\u001b[1;33m\u001b[0m\u001b[1;33m\u001b[0m\u001b[0m\n\u001b[0m\u001b[0;32m    571\u001b[0m \u001b[1;33m\u001b[0m\u001b[0m\n\u001b[0;32m    572\u001b[0m         \u001b[1;32mdef\u001b[0m \u001b[0mcompute_should_use_set_data\u001b[0m\u001b[1;33m(\u001b[0m\u001b[0mtensor\u001b[0m\u001b[1;33m,\u001b[0m \u001b[0mtensor_applied\u001b[0m\u001b[1;33m)\u001b[0m\u001b[1;33m:\u001b[0m\u001b[1;33m\u001b[0m\u001b[1;33m\u001b[0m\u001b[0m\n",
            "\u001b[1;32m~\\anaconda3\\lib\\site-packages\\torch\\nn\\modules\\module.py\u001b[0m in \u001b[0;36m_apply\u001b[1;34m(self, fn)\u001b[0m\n\u001b[0;32m    568\u001b[0m     \u001b[1;32mdef\u001b[0m \u001b[0m_apply\u001b[0m\u001b[1;33m(\u001b[0m\u001b[0mself\u001b[0m\u001b[1;33m,\u001b[0m \u001b[0mfn\u001b[0m\u001b[1;33m)\u001b[0m\u001b[1;33m:\u001b[0m\u001b[1;33m\u001b[0m\u001b[1;33m\u001b[0m\u001b[0m\n\u001b[0;32m    569\u001b[0m         \u001b[1;32mfor\u001b[0m \u001b[0mmodule\u001b[0m \u001b[1;32min\u001b[0m \u001b[0mself\u001b[0m\u001b[1;33m.\u001b[0m\u001b[0mchildren\u001b[0m\u001b[1;33m(\u001b[0m\u001b[1;33m)\u001b[0m\u001b[1;33m:\u001b[0m\u001b[1;33m\u001b[0m\u001b[1;33m\u001b[0m\u001b[0m\n\u001b[1;32m--> 570\u001b[1;33m             \u001b[0mmodule\u001b[0m\u001b[1;33m.\u001b[0m\u001b[0m_apply\u001b[0m\u001b[1;33m(\u001b[0m\u001b[0mfn\u001b[0m\u001b[1;33m)\u001b[0m\u001b[1;33m\u001b[0m\u001b[1;33m\u001b[0m\u001b[0m\n\u001b[0m\u001b[0;32m    571\u001b[0m \u001b[1;33m\u001b[0m\u001b[0m\n\u001b[0;32m    572\u001b[0m         \u001b[1;32mdef\u001b[0m \u001b[0mcompute_should_use_set_data\u001b[0m\u001b[1;33m(\u001b[0m\u001b[0mtensor\u001b[0m\u001b[1;33m,\u001b[0m \u001b[0mtensor_applied\u001b[0m\u001b[1;33m)\u001b[0m\u001b[1;33m:\u001b[0m\u001b[1;33m\u001b[0m\u001b[1;33m\u001b[0m\u001b[0m\n",
            "\u001b[1;32m~\\anaconda3\\lib\\site-packages\\torch\\nn\\modules\\module.py\u001b[0m in \u001b[0;36m_apply\u001b[1;34m(self, fn)\u001b[0m\n\u001b[0;32m    591\u001b[0m             \u001b[1;31m# `with torch.no_grad():`\u001b[0m\u001b[1;33m\u001b[0m\u001b[1;33m\u001b[0m\u001b[0m\n\u001b[0;32m    592\u001b[0m             \u001b[1;32mwith\u001b[0m \u001b[0mtorch\u001b[0m\u001b[1;33m.\u001b[0m\u001b[0mno_grad\u001b[0m\u001b[1;33m(\u001b[0m\u001b[1;33m)\u001b[0m\u001b[1;33m:\u001b[0m\u001b[1;33m\u001b[0m\u001b[1;33m\u001b[0m\u001b[0m\n\u001b[1;32m--> 593\u001b[1;33m                 \u001b[0mparam_applied\u001b[0m \u001b[1;33m=\u001b[0m \u001b[0mfn\u001b[0m\u001b[1;33m(\u001b[0m\u001b[0mparam\u001b[0m\u001b[1;33m)\u001b[0m\u001b[1;33m\u001b[0m\u001b[1;33m\u001b[0m\u001b[0m\n\u001b[0m\u001b[0;32m    594\u001b[0m             \u001b[0mshould_use_set_data\u001b[0m \u001b[1;33m=\u001b[0m \u001b[0mcompute_should_use_set_data\u001b[0m\u001b[1;33m(\u001b[0m\u001b[0mparam\u001b[0m\u001b[1;33m,\u001b[0m \u001b[0mparam_applied\u001b[0m\u001b[1;33m)\u001b[0m\u001b[1;33m\u001b[0m\u001b[1;33m\u001b[0m\u001b[0m\n\u001b[0;32m    595\u001b[0m             \u001b[1;32mif\u001b[0m \u001b[0mshould_use_set_data\u001b[0m\u001b[1;33m:\u001b[0m\u001b[1;33m\u001b[0m\u001b[1;33m\u001b[0m\u001b[0m\n",
            "\u001b[1;32m~\\anaconda3\\lib\\site-packages\\torch\\nn\\modules\\module.py\u001b[0m in \u001b[0;36m<lambda>\u001b[1;34m(t)\u001b[0m\n\u001b[0;32m    678\u001b[0m             \u001b[0mModule\u001b[0m\u001b[1;33m:\u001b[0m \u001b[0mself\u001b[0m\u001b[1;33m\u001b[0m\u001b[1;33m\u001b[0m\u001b[0m\n\u001b[0;32m    679\u001b[0m         \"\"\"\n\u001b[1;32m--> 680\u001b[1;33m         \u001b[1;32mreturn\u001b[0m \u001b[0mself\u001b[0m\u001b[1;33m.\u001b[0m\u001b[0m_apply\u001b[0m\u001b[1;33m(\u001b[0m\u001b[1;32mlambda\u001b[0m \u001b[0mt\u001b[0m\u001b[1;33m:\u001b[0m \u001b[0mt\u001b[0m\u001b[1;33m.\u001b[0m\u001b[0mcuda\u001b[0m\u001b[1;33m(\u001b[0m\u001b[0mdevice\u001b[0m\u001b[1;33m)\u001b[0m\u001b[1;33m)\u001b[0m\u001b[1;33m\u001b[0m\u001b[1;33m\u001b[0m\u001b[0m\n\u001b[0m\u001b[0;32m    681\u001b[0m \u001b[1;33m\u001b[0m\u001b[0m\n\u001b[0;32m    682\u001b[0m     \u001b[1;32mdef\u001b[0m \u001b[0mxpu\u001b[0m\u001b[1;33m(\u001b[0m\u001b[0mself\u001b[0m\u001b[1;33m:\u001b[0m \u001b[0mT\u001b[0m\u001b[1;33m,\u001b[0m \u001b[0mdevice\u001b[0m\u001b[1;33m:\u001b[0m \u001b[0mOptional\u001b[0m\u001b[1;33m[\u001b[0m\u001b[0mUnion\u001b[0m\u001b[1;33m[\u001b[0m\u001b[0mint\u001b[0m\u001b[1;33m,\u001b[0m \u001b[0mdevice\u001b[0m\u001b[1;33m]\u001b[0m\u001b[1;33m]\u001b[0m \u001b[1;33m=\u001b[0m \u001b[1;32mNone\u001b[0m\u001b[1;33m)\u001b[0m \u001b[1;33m->\u001b[0m \u001b[0mT\u001b[0m\u001b[1;33m:\u001b[0m\u001b[1;33m\u001b[0m\u001b[1;33m\u001b[0m\u001b[0m\n",
            "\u001b[1;31mRuntimeError\u001b[0m: CUDA out of memory. Tried to allocate 90.00 MiB (GPU 0; 8.00 GiB total capacity; 6.24 GiB already allocated; 0 bytes free; 6.34 GiB reserved in total by PyTorch) If reserved memory is >> allocated memory try setting max_split_size_mb to avoid fragmentation.  See documentation for Memory Management and PYTORCH_CUDA_ALLOC_CONF"
          ]
        }
      ],
      "source": [
        "# Load BertForSequenceClassification, the pretrained BERT model\n",
        "# with a single linear classification layer on top\n",
        "\n",
        "model = BertForSequenceClassification.from_pretrained(\"bert-base-uncased\", \n",
        "                                                      num_labels=2)\n",
        "\n",
        "model.cuda()"
      ]
    },
    {
      "cell_type": "code",
      "execution_count": 39,
      "metadata": {
        "colab": {
          "base_uri": "https://localhost:8080/",
          "height": 51
        },
        "colab_type": "code",
        "id": "2AxWDu9jSaOY",
        "outputId": "b1c15ffa-324a-42b8-8e5c-1498b4746207"
      },
      "outputs": [
        {
          "name": "stderr",
          "output_type": "stream",
          "text": [
            "t_total value of -1 results in schedule not being applied\n"
          ]
        }
      ],
      "source": [
        "# Hyperparameters\n",
        "\n",
        "param_optimizer = list(model.named_parameters())\n",
        "no_decay = ['bias', 'gamma', 'beta']\n",
        "\n",
        "optimizer_grouped_parameters = [\n",
        "    {\n",
        "        'params': [p for n, p in param_optimizer if not any(nd in n for nd in no_decay)],\n",
        "        'weight_decay_rate': 0.01\n",
        "    },\n",
        "    {\n",
        "        'params': [p for n, p in param_optimizer if any(nd in n for nd in no_decay)], \n",
        "        'weight_decay_rate': 0.00\n",
        "    }\n",
        "  ]\n",
        "\n",
        "optimizer = BertAdam(optimizer_grouped_parameters, lr=2e-5, warmup=0.1)"
      ]
    },
    {
      "cell_type": "code",
      "execution_count": 40,
      "metadata": {
        "colab": {},
        "colab_type": "code",
        "id": "TbXTM3ivUpTl"
      },
      "outputs": [],
      "source": [
        "# calculates the accuracy of our predictions vs labels\n",
        "\n",
        "def flat_accuracy(preds, labels):\n",
        "  pred_flat  = np.argmax(preds , axis=1).flatten()\n",
        "  labels_flat = labels.flatten()\n",
        "  return np.sum(pred_flat == labels_flat)/len(labels_flat)\n"
      ]
    },
    {
      "cell_type": "code",
      "execution_count": 41,
      "metadata": {
        "colab": {
          "base_uri": "https://localhost:8080/",
          "height": 119
        },
        "colab_type": "code",
        "id": "hkelxkU0VXye",
        "outputId": "1de68e63-b3a4-4ebf-c814-396910a37e1a"
      },
      "outputs": [
        {
          "name": "stderr",
          "output_type": "stream",
          "text": [
            "Epoch:   0%|          | 0/4 [00:00<?, ?it/s]\n"
          ]
        },
        {
          "ename": "RuntimeError",
          "evalue": "CUDA out of memory. Tried to allocate 48.00 MiB (GPU 0; 8.00 GiB total capacity; 6.24 GiB already allocated; 0 bytes free; 6.34 GiB reserved in total by PyTorch) If reserved memory is >> allocated memory try setting max_split_size_mb to avoid fragmentation.  See documentation for Memory Management and PYTORCH_CUDA_ALLOC_CONF",
          "output_type": "error",
          "traceback": [
            "\u001b[1;31m---------------------------------------------------------------------------\u001b[0m",
            "\u001b[1;31mRuntimeError\u001b[0m                              Traceback (most recent call last)",
            "\u001b[1;32m~\\AppData\\Local\\Temp/ipykernel_34688/1598211931.py\u001b[0m in \u001b[0;36m<module>\u001b[1;34m\u001b[0m\n\u001b[0;32m     24\u001b[0m     \u001b[0moptimizer\u001b[0m\u001b[1;33m.\u001b[0m\u001b[0mzero_grad\u001b[0m\u001b[1;33m(\u001b[0m\u001b[1;33m)\u001b[0m\u001b[1;33m\u001b[0m\u001b[1;33m\u001b[0m\u001b[0m\n\u001b[0;32m     25\u001b[0m     \u001b[1;31m# Forward pass\u001b[0m\u001b[1;33m\u001b[0m\u001b[1;33m\u001b[0m\u001b[0m\n\u001b[1;32m---> 26\u001b[1;33m     loss = model(b_input_ids, token_type_ids=None, \n\u001b[0m\u001b[0;32m     27\u001b[0m                  attention_mask=b_input_mask, labels=b_labels)\n\u001b[0;32m     28\u001b[0m \u001b[1;33m\u001b[0m\u001b[0m\n",
            "\u001b[1;32m~\\anaconda3\\lib\\site-packages\\torch\\nn\\modules\\module.py\u001b[0m in \u001b[0;36m_call_impl\u001b[1;34m(self, *input, **kwargs)\u001b[0m\n\u001b[0;32m   1100\u001b[0m         if not (self._backward_hooks or self._forward_hooks or self._forward_pre_hooks or _global_backward_hooks\n\u001b[0;32m   1101\u001b[0m                 or _global_forward_hooks or _global_forward_pre_hooks):\n\u001b[1;32m-> 1102\u001b[1;33m             \u001b[1;32mreturn\u001b[0m \u001b[0mforward_call\u001b[0m\u001b[1;33m(\u001b[0m\u001b[1;33m*\u001b[0m\u001b[0minput\u001b[0m\u001b[1;33m,\u001b[0m \u001b[1;33m**\u001b[0m\u001b[0mkwargs\u001b[0m\u001b[1;33m)\u001b[0m\u001b[1;33m\u001b[0m\u001b[1;33m\u001b[0m\u001b[0m\n\u001b[0m\u001b[0;32m   1103\u001b[0m         \u001b[1;31m# Do not call functions when jit is used\u001b[0m\u001b[1;33m\u001b[0m\u001b[1;33m\u001b[0m\u001b[0m\n\u001b[0;32m   1104\u001b[0m         \u001b[0mfull_backward_hooks\u001b[0m\u001b[1;33m,\u001b[0m \u001b[0mnon_full_backward_hooks\u001b[0m \u001b[1;33m=\u001b[0m \u001b[1;33m[\u001b[0m\u001b[1;33m]\u001b[0m\u001b[1;33m,\u001b[0m \u001b[1;33m[\u001b[0m\u001b[1;33m]\u001b[0m\u001b[1;33m\u001b[0m\u001b[1;33m\u001b[0m\u001b[0m\n",
            "\u001b[1;32m~\\anaconda3\\lib\\site-packages\\pytorch_pretrained_bert\\modeling.py\u001b[0m in \u001b[0;36mforward\u001b[1;34m(self, input_ids, token_type_ids, attention_mask, labels)\u001b[0m\n\u001b[0;32m    987\u001b[0m \u001b[1;33m\u001b[0m\u001b[0m\n\u001b[0;32m    988\u001b[0m     \u001b[1;32mdef\u001b[0m \u001b[0mforward\u001b[0m\u001b[1;33m(\u001b[0m\u001b[0mself\u001b[0m\u001b[1;33m,\u001b[0m \u001b[0minput_ids\u001b[0m\u001b[1;33m,\u001b[0m \u001b[0mtoken_type_ids\u001b[0m\u001b[1;33m=\u001b[0m\u001b[1;32mNone\u001b[0m\u001b[1;33m,\u001b[0m \u001b[0mattention_mask\u001b[0m\u001b[1;33m=\u001b[0m\u001b[1;32mNone\u001b[0m\u001b[1;33m,\u001b[0m \u001b[0mlabels\u001b[0m\u001b[1;33m=\u001b[0m\u001b[1;32mNone\u001b[0m\u001b[1;33m)\u001b[0m\u001b[1;33m:\u001b[0m\u001b[1;33m\u001b[0m\u001b[1;33m\u001b[0m\u001b[0m\n\u001b[1;32m--> 989\u001b[1;33m         \u001b[0m_\u001b[0m\u001b[1;33m,\u001b[0m \u001b[0mpooled_output\u001b[0m \u001b[1;33m=\u001b[0m \u001b[0mself\u001b[0m\u001b[1;33m.\u001b[0m\u001b[0mbert\u001b[0m\u001b[1;33m(\u001b[0m\u001b[0minput_ids\u001b[0m\u001b[1;33m,\u001b[0m \u001b[0mtoken_type_ids\u001b[0m\u001b[1;33m,\u001b[0m \u001b[0mattention_mask\u001b[0m\u001b[1;33m,\u001b[0m \u001b[0moutput_all_encoded_layers\u001b[0m\u001b[1;33m=\u001b[0m\u001b[1;32mFalse\u001b[0m\u001b[1;33m)\u001b[0m\u001b[1;33m\u001b[0m\u001b[1;33m\u001b[0m\u001b[0m\n\u001b[0m\u001b[0;32m    990\u001b[0m         \u001b[0mpooled_output\u001b[0m \u001b[1;33m=\u001b[0m \u001b[0mself\u001b[0m\u001b[1;33m.\u001b[0m\u001b[0mdropout\u001b[0m\u001b[1;33m(\u001b[0m\u001b[0mpooled_output\u001b[0m\u001b[1;33m)\u001b[0m\u001b[1;33m\u001b[0m\u001b[1;33m\u001b[0m\u001b[0m\n\u001b[0;32m    991\u001b[0m         \u001b[0mlogits\u001b[0m \u001b[1;33m=\u001b[0m \u001b[0mself\u001b[0m\u001b[1;33m.\u001b[0m\u001b[0mclassifier\u001b[0m\u001b[1;33m(\u001b[0m\u001b[0mpooled_output\u001b[0m\u001b[1;33m)\u001b[0m\u001b[1;33m\u001b[0m\u001b[1;33m\u001b[0m\u001b[0m\n",
            "\u001b[1;32m~\\anaconda3\\lib\\site-packages\\torch\\nn\\modules\\module.py\u001b[0m in \u001b[0;36m_call_impl\u001b[1;34m(self, *input, **kwargs)\u001b[0m\n\u001b[0;32m   1100\u001b[0m         if not (self._backward_hooks or self._forward_hooks or self._forward_pre_hooks or _global_backward_hooks\n\u001b[0;32m   1101\u001b[0m                 or _global_forward_hooks or _global_forward_pre_hooks):\n\u001b[1;32m-> 1102\u001b[1;33m             \u001b[1;32mreturn\u001b[0m \u001b[0mforward_call\u001b[0m\u001b[1;33m(\u001b[0m\u001b[1;33m*\u001b[0m\u001b[0minput\u001b[0m\u001b[1;33m,\u001b[0m \u001b[1;33m**\u001b[0m\u001b[0mkwargs\u001b[0m\u001b[1;33m)\u001b[0m\u001b[1;33m\u001b[0m\u001b[1;33m\u001b[0m\u001b[0m\n\u001b[0m\u001b[0;32m   1103\u001b[0m         \u001b[1;31m# Do not call functions when jit is used\u001b[0m\u001b[1;33m\u001b[0m\u001b[1;33m\u001b[0m\u001b[0m\n\u001b[0;32m   1104\u001b[0m         \u001b[0mfull_backward_hooks\u001b[0m\u001b[1;33m,\u001b[0m \u001b[0mnon_full_backward_hooks\u001b[0m \u001b[1;33m=\u001b[0m \u001b[1;33m[\u001b[0m\u001b[1;33m]\u001b[0m\u001b[1;33m,\u001b[0m \u001b[1;33m[\u001b[0m\u001b[1;33m]\u001b[0m\u001b[1;33m\u001b[0m\u001b[1;33m\u001b[0m\u001b[0m\n",
            "\u001b[1;32m~\\anaconda3\\lib\\site-packages\\pytorch_pretrained_bert\\modeling.py\u001b[0m in \u001b[0;36mforward\u001b[1;34m(self, input_ids, token_type_ids, attention_mask, output_all_encoded_layers)\u001b[0m\n\u001b[0;32m    729\u001b[0m \u001b[1;33m\u001b[0m\u001b[0m\n\u001b[0;32m    730\u001b[0m         \u001b[0membedding_output\u001b[0m \u001b[1;33m=\u001b[0m \u001b[0mself\u001b[0m\u001b[1;33m.\u001b[0m\u001b[0membeddings\u001b[0m\u001b[1;33m(\u001b[0m\u001b[0minput_ids\u001b[0m\u001b[1;33m,\u001b[0m \u001b[0mtoken_type_ids\u001b[0m\u001b[1;33m)\u001b[0m\u001b[1;33m\u001b[0m\u001b[1;33m\u001b[0m\u001b[0m\n\u001b[1;32m--> 731\u001b[1;33m         encoded_layers = self.encoder(embedding_output,\n\u001b[0m\u001b[0;32m    732\u001b[0m                                       \u001b[0mextended_attention_mask\u001b[0m\u001b[1;33m,\u001b[0m\u001b[1;33m\u001b[0m\u001b[1;33m\u001b[0m\u001b[0m\n\u001b[0;32m    733\u001b[0m                                       output_all_encoded_layers=output_all_encoded_layers)\n",
            "\u001b[1;32m~\\anaconda3\\lib\\site-packages\\torch\\nn\\modules\\module.py\u001b[0m in \u001b[0;36m_call_impl\u001b[1;34m(self, *input, **kwargs)\u001b[0m\n\u001b[0;32m   1100\u001b[0m         if not (self._backward_hooks or self._forward_hooks or self._forward_pre_hooks or _global_backward_hooks\n\u001b[0;32m   1101\u001b[0m                 or _global_forward_hooks or _global_forward_pre_hooks):\n\u001b[1;32m-> 1102\u001b[1;33m             \u001b[1;32mreturn\u001b[0m \u001b[0mforward_call\u001b[0m\u001b[1;33m(\u001b[0m\u001b[1;33m*\u001b[0m\u001b[0minput\u001b[0m\u001b[1;33m,\u001b[0m \u001b[1;33m**\u001b[0m\u001b[0mkwargs\u001b[0m\u001b[1;33m)\u001b[0m\u001b[1;33m\u001b[0m\u001b[1;33m\u001b[0m\u001b[0m\n\u001b[0m\u001b[0;32m   1103\u001b[0m         \u001b[1;31m# Do not call functions when jit is used\u001b[0m\u001b[1;33m\u001b[0m\u001b[1;33m\u001b[0m\u001b[0m\n\u001b[0;32m   1104\u001b[0m         \u001b[0mfull_backward_hooks\u001b[0m\u001b[1;33m,\u001b[0m \u001b[0mnon_full_backward_hooks\u001b[0m \u001b[1;33m=\u001b[0m \u001b[1;33m[\u001b[0m\u001b[1;33m]\u001b[0m\u001b[1;33m,\u001b[0m \u001b[1;33m[\u001b[0m\u001b[1;33m]\u001b[0m\u001b[1;33m\u001b[0m\u001b[1;33m\u001b[0m\u001b[0m\n",
            "\u001b[1;32m~\\anaconda3\\lib\\site-packages\\pytorch_pretrained_bert\\modeling.py\u001b[0m in \u001b[0;36mforward\u001b[1;34m(self, hidden_states, attention_mask, output_all_encoded_layers)\u001b[0m\n\u001b[0;32m    404\u001b[0m         \u001b[0mall_encoder_layers\u001b[0m \u001b[1;33m=\u001b[0m \u001b[1;33m[\u001b[0m\u001b[1;33m]\u001b[0m\u001b[1;33m\u001b[0m\u001b[1;33m\u001b[0m\u001b[0m\n\u001b[0;32m    405\u001b[0m         \u001b[1;32mfor\u001b[0m \u001b[0mlayer_module\u001b[0m \u001b[1;32min\u001b[0m \u001b[0mself\u001b[0m\u001b[1;33m.\u001b[0m\u001b[0mlayer\u001b[0m\u001b[1;33m:\u001b[0m\u001b[1;33m\u001b[0m\u001b[1;33m\u001b[0m\u001b[0m\n\u001b[1;32m--> 406\u001b[1;33m             \u001b[0mhidden_states\u001b[0m \u001b[1;33m=\u001b[0m \u001b[0mlayer_module\u001b[0m\u001b[1;33m(\u001b[0m\u001b[0mhidden_states\u001b[0m\u001b[1;33m,\u001b[0m \u001b[0mattention_mask\u001b[0m\u001b[1;33m)\u001b[0m\u001b[1;33m\u001b[0m\u001b[1;33m\u001b[0m\u001b[0m\n\u001b[0m\u001b[0;32m    407\u001b[0m             \u001b[1;32mif\u001b[0m \u001b[0moutput_all_encoded_layers\u001b[0m\u001b[1;33m:\u001b[0m\u001b[1;33m\u001b[0m\u001b[1;33m\u001b[0m\u001b[0m\n\u001b[0;32m    408\u001b[0m                 \u001b[0mall_encoder_layers\u001b[0m\u001b[1;33m.\u001b[0m\u001b[0mappend\u001b[0m\u001b[1;33m(\u001b[0m\u001b[0mhidden_states\u001b[0m\u001b[1;33m)\u001b[0m\u001b[1;33m\u001b[0m\u001b[1;33m\u001b[0m\u001b[0m\n",
            "\u001b[1;32m~\\anaconda3\\lib\\site-packages\\torch\\nn\\modules\\module.py\u001b[0m in \u001b[0;36m_call_impl\u001b[1;34m(self, *input, **kwargs)\u001b[0m\n\u001b[0;32m   1100\u001b[0m         if not (self._backward_hooks or self._forward_hooks or self._forward_pre_hooks or _global_backward_hooks\n\u001b[0;32m   1101\u001b[0m                 or _global_forward_hooks or _global_forward_pre_hooks):\n\u001b[1;32m-> 1102\u001b[1;33m             \u001b[1;32mreturn\u001b[0m \u001b[0mforward_call\u001b[0m\u001b[1;33m(\u001b[0m\u001b[1;33m*\u001b[0m\u001b[0minput\u001b[0m\u001b[1;33m,\u001b[0m \u001b[1;33m**\u001b[0m\u001b[0mkwargs\u001b[0m\u001b[1;33m)\u001b[0m\u001b[1;33m\u001b[0m\u001b[1;33m\u001b[0m\u001b[0m\n\u001b[0m\u001b[0;32m   1103\u001b[0m         \u001b[1;31m# Do not call functions when jit is used\u001b[0m\u001b[1;33m\u001b[0m\u001b[1;33m\u001b[0m\u001b[0m\n\u001b[0;32m   1104\u001b[0m         \u001b[0mfull_backward_hooks\u001b[0m\u001b[1;33m,\u001b[0m \u001b[0mnon_full_backward_hooks\u001b[0m \u001b[1;33m=\u001b[0m \u001b[1;33m[\u001b[0m\u001b[1;33m]\u001b[0m\u001b[1;33m,\u001b[0m \u001b[1;33m[\u001b[0m\u001b[1;33m]\u001b[0m\u001b[1;33m\u001b[0m\u001b[1;33m\u001b[0m\u001b[0m\n",
            "\u001b[1;32m~\\anaconda3\\lib\\site-packages\\pytorch_pretrained_bert\\modeling.py\u001b[0m in \u001b[0;36mforward\u001b[1;34m(self, hidden_states, attention_mask)\u001b[0m\n\u001b[0;32m    390\u001b[0m     \u001b[1;32mdef\u001b[0m \u001b[0mforward\u001b[0m\u001b[1;33m(\u001b[0m\u001b[0mself\u001b[0m\u001b[1;33m,\u001b[0m \u001b[0mhidden_states\u001b[0m\u001b[1;33m,\u001b[0m \u001b[0mattention_mask\u001b[0m\u001b[1;33m)\u001b[0m\u001b[1;33m:\u001b[0m\u001b[1;33m\u001b[0m\u001b[1;33m\u001b[0m\u001b[0m\n\u001b[0;32m    391\u001b[0m         \u001b[0mattention_output\u001b[0m \u001b[1;33m=\u001b[0m \u001b[0mself\u001b[0m\u001b[1;33m.\u001b[0m\u001b[0mattention\u001b[0m\u001b[1;33m(\u001b[0m\u001b[0mhidden_states\u001b[0m\u001b[1;33m,\u001b[0m \u001b[0mattention_mask\u001b[0m\u001b[1;33m)\u001b[0m\u001b[1;33m\u001b[0m\u001b[1;33m\u001b[0m\u001b[0m\n\u001b[1;32m--> 392\u001b[1;33m         \u001b[0mintermediate_output\u001b[0m \u001b[1;33m=\u001b[0m \u001b[0mself\u001b[0m\u001b[1;33m.\u001b[0m\u001b[0mintermediate\u001b[0m\u001b[1;33m(\u001b[0m\u001b[0mattention_output\u001b[0m\u001b[1;33m)\u001b[0m\u001b[1;33m\u001b[0m\u001b[1;33m\u001b[0m\u001b[0m\n\u001b[0m\u001b[0;32m    393\u001b[0m         \u001b[0mlayer_output\u001b[0m \u001b[1;33m=\u001b[0m \u001b[0mself\u001b[0m\u001b[1;33m.\u001b[0m\u001b[0moutput\u001b[0m\u001b[1;33m(\u001b[0m\u001b[0mintermediate_output\u001b[0m\u001b[1;33m,\u001b[0m \u001b[0mattention_output\u001b[0m\u001b[1;33m)\u001b[0m\u001b[1;33m\u001b[0m\u001b[1;33m\u001b[0m\u001b[0m\n\u001b[0;32m    394\u001b[0m         \u001b[1;32mreturn\u001b[0m \u001b[0mlayer_output\u001b[0m\u001b[1;33m\u001b[0m\u001b[1;33m\u001b[0m\u001b[0m\n",
            "\u001b[1;32m~\\anaconda3\\lib\\site-packages\\torch\\nn\\modules\\module.py\u001b[0m in \u001b[0;36m_call_impl\u001b[1;34m(self, *input, **kwargs)\u001b[0m\n\u001b[0;32m   1100\u001b[0m         if not (self._backward_hooks or self._forward_hooks or self._forward_pre_hooks or _global_backward_hooks\n\u001b[0;32m   1101\u001b[0m                 or _global_forward_hooks or _global_forward_pre_hooks):\n\u001b[1;32m-> 1102\u001b[1;33m             \u001b[1;32mreturn\u001b[0m \u001b[0mforward_call\u001b[0m\u001b[1;33m(\u001b[0m\u001b[1;33m*\u001b[0m\u001b[0minput\u001b[0m\u001b[1;33m,\u001b[0m \u001b[1;33m**\u001b[0m\u001b[0mkwargs\u001b[0m\u001b[1;33m)\u001b[0m\u001b[1;33m\u001b[0m\u001b[1;33m\u001b[0m\u001b[0m\n\u001b[0m\u001b[0;32m   1103\u001b[0m         \u001b[1;31m# Do not call functions when jit is used\u001b[0m\u001b[1;33m\u001b[0m\u001b[1;33m\u001b[0m\u001b[0m\n\u001b[0;32m   1104\u001b[0m         \u001b[0mfull_backward_hooks\u001b[0m\u001b[1;33m,\u001b[0m \u001b[0mnon_full_backward_hooks\u001b[0m \u001b[1;33m=\u001b[0m \u001b[1;33m[\u001b[0m\u001b[1;33m]\u001b[0m\u001b[1;33m,\u001b[0m \u001b[1;33m[\u001b[0m\u001b[1;33m]\u001b[0m\u001b[1;33m\u001b[0m\u001b[1;33m\u001b[0m\u001b[0m\n",
            "\u001b[1;32m~\\anaconda3\\lib\\site-packages\\pytorch_pretrained_bert\\modeling.py\u001b[0m in \u001b[0;36mforward\u001b[1;34m(self, hidden_states)\u001b[0m\n\u001b[0;32m    362\u001b[0m \u001b[1;33m\u001b[0m\u001b[0m\n\u001b[0;32m    363\u001b[0m     \u001b[1;32mdef\u001b[0m \u001b[0mforward\u001b[0m\u001b[1;33m(\u001b[0m\u001b[0mself\u001b[0m\u001b[1;33m,\u001b[0m \u001b[0mhidden_states\u001b[0m\u001b[1;33m)\u001b[0m\u001b[1;33m:\u001b[0m\u001b[1;33m\u001b[0m\u001b[1;33m\u001b[0m\u001b[0m\n\u001b[1;32m--> 364\u001b[1;33m         \u001b[0mhidden_states\u001b[0m \u001b[1;33m=\u001b[0m \u001b[0mself\u001b[0m\u001b[1;33m.\u001b[0m\u001b[0mdense\u001b[0m\u001b[1;33m(\u001b[0m\u001b[0mhidden_states\u001b[0m\u001b[1;33m)\u001b[0m\u001b[1;33m\u001b[0m\u001b[1;33m\u001b[0m\u001b[0m\n\u001b[0m\u001b[0;32m    365\u001b[0m         \u001b[0mhidden_states\u001b[0m \u001b[1;33m=\u001b[0m \u001b[0mself\u001b[0m\u001b[1;33m.\u001b[0m\u001b[0mintermediate_act_fn\u001b[0m\u001b[1;33m(\u001b[0m\u001b[0mhidden_states\u001b[0m\u001b[1;33m)\u001b[0m\u001b[1;33m\u001b[0m\u001b[1;33m\u001b[0m\u001b[0m\n\u001b[0;32m    366\u001b[0m         \u001b[1;32mreturn\u001b[0m \u001b[0mhidden_states\u001b[0m\u001b[1;33m\u001b[0m\u001b[1;33m\u001b[0m\u001b[0m\n",
            "\u001b[1;32m~\\anaconda3\\lib\\site-packages\\torch\\nn\\modules\\module.py\u001b[0m in \u001b[0;36m_call_impl\u001b[1;34m(self, *input, **kwargs)\u001b[0m\n\u001b[0;32m   1100\u001b[0m         if not (self._backward_hooks or self._forward_hooks or self._forward_pre_hooks or _global_backward_hooks\n\u001b[0;32m   1101\u001b[0m                 or _global_forward_hooks or _global_forward_pre_hooks):\n\u001b[1;32m-> 1102\u001b[1;33m             \u001b[1;32mreturn\u001b[0m \u001b[0mforward_call\u001b[0m\u001b[1;33m(\u001b[0m\u001b[1;33m*\u001b[0m\u001b[0minput\u001b[0m\u001b[1;33m,\u001b[0m \u001b[1;33m**\u001b[0m\u001b[0mkwargs\u001b[0m\u001b[1;33m)\u001b[0m\u001b[1;33m\u001b[0m\u001b[1;33m\u001b[0m\u001b[0m\n\u001b[0m\u001b[0;32m   1103\u001b[0m         \u001b[1;31m# Do not call functions when jit is used\u001b[0m\u001b[1;33m\u001b[0m\u001b[1;33m\u001b[0m\u001b[0m\n\u001b[0;32m   1104\u001b[0m         \u001b[0mfull_backward_hooks\u001b[0m\u001b[1;33m,\u001b[0m \u001b[0mnon_full_backward_hooks\u001b[0m \u001b[1;33m=\u001b[0m \u001b[1;33m[\u001b[0m\u001b[1;33m]\u001b[0m\u001b[1;33m,\u001b[0m \u001b[1;33m[\u001b[0m\u001b[1;33m]\u001b[0m\u001b[1;33m\u001b[0m\u001b[1;33m\u001b[0m\u001b[0m\n",
            "\u001b[1;32m~\\anaconda3\\lib\\site-packages\\torch\\nn\\modules\\linear.py\u001b[0m in \u001b[0;36mforward\u001b[1;34m(self, input)\u001b[0m\n\u001b[0;32m    101\u001b[0m \u001b[1;33m\u001b[0m\u001b[0m\n\u001b[0;32m    102\u001b[0m     \u001b[1;32mdef\u001b[0m \u001b[0mforward\u001b[0m\u001b[1;33m(\u001b[0m\u001b[0mself\u001b[0m\u001b[1;33m,\u001b[0m \u001b[0minput\u001b[0m\u001b[1;33m:\u001b[0m \u001b[0mTensor\u001b[0m\u001b[1;33m)\u001b[0m \u001b[1;33m->\u001b[0m \u001b[0mTensor\u001b[0m\u001b[1;33m:\u001b[0m\u001b[1;33m\u001b[0m\u001b[1;33m\u001b[0m\u001b[0m\n\u001b[1;32m--> 103\u001b[1;33m         \u001b[1;32mreturn\u001b[0m \u001b[0mF\u001b[0m\u001b[1;33m.\u001b[0m\u001b[0mlinear\u001b[0m\u001b[1;33m(\u001b[0m\u001b[0minput\u001b[0m\u001b[1;33m,\u001b[0m \u001b[0mself\u001b[0m\u001b[1;33m.\u001b[0m\u001b[0mweight\u001b[0m\u001b[1;33m,\u001b[0m \u001b[0mself\u001b[0m\u001b[1;33m.\u001b[0m\u001b[0mbias\u001b[0m\u001b[1;33m)\u001b[0m\u001b[1;33m\u001b[0m\u001b[1;33m\u001b[0m\u001b[0m\n\u001b[0m\u001b[0;32m    104\u001b[0m \u001b[1;33m\u001b[0m\u001b[0m\n\u001b[0;32m    105\u001b[0m     \u001b[1;32mdef\u001b[0m \u001b[0mextra_repr\u001b[0m\u001b[1;33m(\u001b[0m\u001b[0mself\u001b[0m\u001b[1;33m)\u001b[0m \u001b[1;33m->\u001b[0m \u001b[0mstr\u001b[0m\u001b[1;33m:\u001b[0m\u001b[1;33m\u001b[0m\u001b[1;33m\u001b[0m\u001b[0m\n",
            "\u001b[1;32m~\\anaconda3\\lib\\site-packages\\torch\\nn\\functional.py\u001b[0m in \u001b[0;36mlinear\u001b[1;34m(input, weight, bias)\u001b[0m\n\u001b[0;32m   1846\u001b[0m     \u001b[1;32mif\u001b[0m \u001b[0mhas_torch_function_variadic\u001b[0m\u001b[1;33m(\u001b[0m\u001b[0minput\u001b[0m\u001b[1;33m,\u001b[0m \u001b[0mweight\u001b[0m\u001b[1;33m,\u001b[0m \u001b[0mbias\u001b[0m\u001b[1;33m)\u001b[0m\u001b[1;33m:\u001b[0m\u001b[1;33m\u001b[0m\u001b[1;33m\u001b[0m\u001b[0m\n\u001b[0;32m   1847\u001b[0m         \u001b[1;32mreturn\u001b[0m \u001b[0mhandle_torch_function\u001b[0m\u001b[1;33m(\u001b[0m\u001b[0mlinear\u001b[0m\u001b[1;33m,\u001b[0m \u001b[1;33m(\u001b[0m\u001b[0minput\u001b[0m\u001b[1;33m,\u001b[0m \u001b[0mweight\u001b[0m\u001b[1;33m,\u001b[0m \u001b[0mbias\u001b[0m\u001b[1;33m)\u001b[0m\u001b[1;33m,\u001b[0m \u001b[0minput\u001b[0m\u001b[1;33m,\u001b[0m \u001b[0mweight\u001b[0m\u001b[1;33m,\u001b[0m \u001b[0mbias\u001b[0m\u001b[1;33m=\u001b[0m\u001b[0mbias\u001b[0m\u001b[1;33m)\u001b[0m\u001b[1;33m\u001b[0m\u001b[1;33m\u001b[0m\u001b[0m\n\u001b[1;32m-> 1848\u001b[1;33m     \u001b[1;32mreturn\u001b[0m \u001b[0mtorch\u001b[0m\u001b[1;33m.\u001b[0m\u001b[0m_C\u001b[0m\u001b[1;33m.\u001b[0m\u001b[0m_nn\u001b[0m\u001b[1;33m.\u001b[0m\u001b[0mlinear\u001b[0m\u001b[1;33m(\u001b[0m\u001b[0minput\u001b[0m\u001b[1;33m,\u001b[0m \u001b[0mweight\u001b[0m\u001b[1;33m,\u001b[0m \u001b[0mbias\u001b[0m\u001b[1;33m)\u001b[0m\u001b[1;33m\u001b[0m\u001b[1;33m\u001b[0m\u001b[0m\n\u001b[0m\u001b[0;32m   1849\u001b[0m \u001b[1;33m\u001b[0m\u001b[0m\n\u001b[0;32m   1850\u001b[0m \u001b[1;33m\u001b[0m\u001b[0m\n",
            "\u001b[1;31mRuntimeError\u001b[0m: CUDA out of memory. Tried to allocate 48.00 MiB (GPU 0; 8.00 GiB total capacity; 6.24 GiB already allocated; 0 bytes free; 6.34 GiB reserved in total by PyTorch) If reserved memory is >> allocated memory try setting max_split_size_mb to avoid fragmentation.  See documentation for Memory Management and PYTORCH_CUDA_ALLOC_CONF"
          ]
        }
      ],
      "source": [
        "# Training Loop\n",
        "\n",
        "# Store our loss and accuracy for plotting\n",
        "train_loss_set = []\n",
        "\n",
        "# Number of training epochs (authors recommend between 2 and 4)\n",
        "epochs = 4\n",
        "# trange is a tqdm wrapper around the normal python range\n",
        "for _ in trange(epochs, desc=\"Epoch\"):\n",
        "  # Training\n",
        "  # Set our model to training mode (as opposed to evaluation mode)\n",
        "  model.train()\n",
        "  # Tracking variables\n",
        "  tr_loss = 0\n",
        "  nb_tr_examples, nb_tr_steps = 0, 0\n",
        "  \n",
        "  # Train the data for one epoch\n",
        "  for step, batch in enumerate(train_dataloader):\n",
        "    # Add batch to GPU\n",
        "    batch = tuple(t.to(device) for t in batch)\n",
        "    # Unpack the inputs from our dataloader\n",
        "    b_input_ids, b_input_mask , b_labels = batch\n",
        "    # Clear out the gradients (by default they accumulate)\n",
        "    optimizer.zero_grad()\n",
        "    # Forward pass\n",
        "    loss = model(b_input_ids, token_type_ids=None, \n",
        "                 attention_mask=b_input_mask, labels=b_labels)\n",
        "    \n",
        "    train_loss_set.append(loss.item())\n",
        "    # Backward pass\n",
        "    loss.backward()\n",
        "    # Update parameters and take a step using the computed gradient\n",
        "    optimizer.step()\n",
        "    # Update tracking variables\n",
        "    tr_loss += loss.item()\n",
        "    nb_tr_examples += b_input_ids.size(0)\n",
        "    nb_tr_steps += 1\n",
        "  print(\"Train loss: {}\".format(tr_loss/nb_tr_steps))\n",
        "    \n",
        "# Validation\n",
        "# Put model in evaluation mode to evaluate loss on the validation set\n",
        "model.eval()\n",
        "\n",
        "# Tracking variables\n",
        "eval_loss, eval_accuracy = 0, 0\n",
        "nb_eval_steps, nb_eval_examples = 0, 0\n",
        "\n",
        "# Evaluate data for one epoch\n",
        "for batch in validation_dataloader:\n",
        "  # Add batch to GPU\n",
        "  batch = tuple(t.to(device) for t in batch)\n",
        "  # Unpack the inputs from our dataloader\n",
        "  b_input_ids, b_input_mask, b_labels = batch\n",
        "  \n",
        "  # Telling the model not to compute or store gradients,\n",
        "  # ve memory and speede up validation\n",
        "  with torch.no_grad():\n",
        "    # Forward pass, calculate logit predictions\n",
        "    logits = model(b_input_ids, token_type_ids =None, attention_mask=b_input_mask)\n",
        "    \n",
        "  # Move logits and labels to CPU\n",
        "  logits = logits.detach().cpu().numpy()\n",
        "  label_ids = b_labels.to('cpu').numpy()\n",
        "  \n",
        "  tmp_eval_accuracy = flat_accuracy(logits, label_ids)\n",
        "  eval_accuracy += tmp_eval_accuracy\n",
        "  nb_eval_steps += 1\n",
        "\n",
        "print(\"Validation Accuracy: {}\".format(eval_accuracy/nb_eval_steps))\n"
      ]
    },
    {
      "cell_type": "code",
      "execution_count": null,
      "metadata": {
        "colab": {
          "base_uri": "https://localhost:8080/",
          "height": 513
        },
        "colab_type": "code",
        "id": "3O0xTNdJX1Ht",
        "outputId": "c0ca3ebd-d7fe-4453-c2fc-a75f87fc36b9"
      },
      "outputs": [
        {
          "data": {
            "image/png": "[encoded data removed]",
            "text/plain": [
              "<Figure size 1080x576 with 1 Axes>"
            ]
          },
          "metadata": {
            "tags": []
          },
          "output_type": "display_data"
        }
      ],
      "source": [
        "plt.figure(figsize=(15,8))\n",
        "plt.title(\"Training loss\")\n",
        "plt.xlabel(\"Batch\")\n",
        "plt.ylabel(\"Loss\")\n",
        "plt.plot(train_loss_set)\n",
        "plt.show()"
      ]
    },
    {
      "cell_type": "code",
      "execution_count": null,
      "metadata": {
        "colab": {},
        "colab_type": "code",
        "id": "JmqgO2GZYVHv"
      },
      "outputs": [],
      "source": [
        "# Predict and Evaluate on Holdout Set\n",
        "\n",
        "# Upload the test file from your local drive\n",
        "# from google.colab import files \n",
        "# uploaded = files.upload()"
      ]
    },
    {
      "cell_type": "code",
      "execution_count": null,
      "metadata": {
        "colab": {},
        "colab_type": "code",
        "id": "XLQhyF0TYeg0"
      },
      "outputs": [],
      "source": [
        "df = pd.read_csv(\"out_of_domain_dev.tsv\", delimiter='\\t', header=None,\n",
        "  names=['sentence_source', 'label', 'label_notes', 'sentence'])\n",
        "\n",
        "# Create sentence) and label lists\n",
        "sentences = df.sentence.values\n",
        "# We need to add special tokens at the beginning and end of each sentence\n",
        "# for BERT to work properly\n",
        "sentences = [\"[CLS] \" + sentence + \" [SEP]\" for sentence in sentences]\n",
        "labels = df.label.values\n",
        "\n",
        "tokenized_texts = [tokenizer.tokenize(sent) for sent in sentences]\n",
        "\n",
        "# Padding Sentences\n",
        "# Set the maximum sequence length. The longest sequence in our training set\n",
        "# is 47, but we'll leave room on the end anyway.\n",
        "# In the original paper, the authors used a length of 512.\n",
        "MAX_LEN = 128\n",
        "\n",
        "# Pad our input tokens\n",
        "input_ids = pad_sequences(\n",
        "    [tokenizer.convert_tokens_to_ids(txt) for txt in tokenized_texts], \n",
        "    maxlen=MAX_LEN, dtype=\"long\", truncating=\"post\", padding=\"post\"\n",
        "    )\n",
        "\n",
        "# Index Numbers and Padding\n",
        "input_ids = [tokenizer.convert_tokens_to_ids(x) for x in tokenized_texts]\n",
        "\n",
        "# pad sentences\n",
        "input_ids = pad_sequences(input_ids, maxlen=MAX_LEN, \n",
        "                          dtype =\"long\", truncating=\"post\",padding =\"post\")\n",
        "\n",
        "# Attention masks\n",
        "\n",
        "# Create attention masks\n",
        "attention_masks = []\n",
        "\n",
        "# Create a mask of 1s for each token followed by 0s for padding\n",
        "for seq in input_ids:\n",
        "  seq_mask = [float(i > 0) for i in seq]\n",
        "  attention_masks.append(seq_mask)\n",
        "\n",
        "prediction_inputs = torch.tensor(input_ids)\n",
        "prediction_masks = torch.tensor(attention_masks)\n",
        "prediction_labels = torch.tensor(labels)\n",
        "\n",
        "batch_size = 32\n",
        "\n",
        "prediction_data = \\\n",
        "  TensorDataset(prediction_inputs, prediction_masks, prediction_labels)\n",
        "prediction_sampler = SequentialSampler(prediction_data)\n",
        "prediction_dataloader = \\\n",
        "  DataLoader(prediction_data, sampler=prediction_sampler, batch_size=batch_size)\n"
      ]
    },
    {
      "cell_type": "code",
      "execution_count": null,
      "metadata": {
        "colab": {},
        "colab_type": "code",
        "id": "lCKWTa39Z3xl"
      },
      "outputs": [],
      "source": [
        "# Prediction on the test set\n",
        "\n",
        "# Put model in evaluation mode\n",
        "model.eval()\n",
        "\n",
        "# Tracking variables\n",
        "predictions, true_labels = [], []\n",
        "\n",
        "# Predict\n",
        "for batch in prediction_dataloader:\n",
        "  # Add batch to GPU\n",
        "  batch = tuple(t.to(device) for t in batch)\n",
        "  # Unpack the inputs from our dataloader\n",
        "  b_input_ids, b_input_mask , b_labels = batch\n",
        "  # Telling the model not to compute or store gradients,\n",
        "  # saving memory and speeding up prediction\n",
        "\n",
        "  with torch.no_grad():\n",
        "    # Forward pass, calculate logit predictions\n",
        "    logits = model(b_input_ids, token_type_ids=None, attention_mask=b_input_mask)\n",
        "  \n",
        "  # Move logits and labels to CPU\n",
        "  logits = logits.detach().cpu().numpy()\n",
        "  label_ids = b_labels.to(\"cpu\").numpy()\n",
        "  \n",
        "  # Store predictions and true labels\n",
        "  predictions.append(logits)\n",
        "  true_labels.append(label_ids)"
      ]
    },
    {
      "cell_type": "code",
      "execution_count": null,
      "metadata": {
        "colab": {
          "base_uri": "https://localhost:8080/",
          "height": 340
        },
        "colab_type": "code",
        "id": "zbVl6aNfa2MJ",
        "outputId": "bcffbfa2-4d07-4aef-924c-445a66313ca9"
      },
      "outputs": [
        {
          "name": "stderr",
          "output_type": "stream",
          "text": [
            "/usr/local/lib/python3.6/dist-packages/sklearn/metrics/classification.py:872: RuntimeWarning: invalid value encountered in double_scalars\n",
            "  mcc = cov_ytyp / np.sqrt(cov_ytyt * cov_ypyp)\n"
          ]
        },
        {
          "data": {
            "text/plain": [
              "[-0.2135744251723958,\n",
              " -0.2548235957188128,\n",
              " 0.20513587275572404,\n",
              " 0.38164251207729466,\n",
              " 0.41281272698065485,\n",
              " 0.8050112948805689,\n",
              " 0.37777777777777777,\n",
              " 0.29277002188455997,\n",
              " 0.7419408268023742,\n",
              " 0.4700159919404217,\n",
              " 0.6777749493656265,\n",
              " 0.6457765999379483,\n",
              " 0.6979824404521128,\n",
              " 0.7948717948717948,\n",
              " 0.38461538461538464,\n",
              " 0.42276002160669474,\n",
              " 0.0]"
            ]
          },
          "execution_count": 21,
          "metadata": {
            "tags": []
          },
          "output_type": "execute_result"
        }
      ],
      "source": [
        "# Evaluate Each Test Batch using Matthew's correlation coefficient\n",
        "\n",
        "from sklearn.metrics import matthews_corrcoef \n",
        "\n",
        "matthews_set = []\n",
        "\n",
        "for i in range(len(true_labels)):\n",
        "  matthews = matthews_corrcoef(true_labels[i], \n",
        "                               np.argmax(predictions[i], axis=1).flatten())\n",
        "\n",
        "  matthews_set.append(matthews)\n",
        "\n",
        "matthews_set"
      ]
    },
    {
      "cell_type": "code",
      "execution_count": null,
      "metadata": {
        "colab": {
          "base_uri": "https://localhost:8080/",
          "height": 34
        },
        "colab_type": "code",
        "id": "PnqWcze3f18q",
        "outputId": "aecd8f83-d8ef-4cc5-bdd6-0c02e87f3af3"
      },
      "outputs": [
        {
          "data": {
            "text/plain": [
              "0.4425287491325227"
            ]
          },
          "execution_count": 22,
          "metadata": {
            "tags": []
          },
          "output_type": "execute_result"
        }
      ],
      "source": [
        "flat_predictions = [item for sublist in predictions for item in sublist]\n",
        "flat_predictions = np.argmax(flat_predictions, axis=1).flatten()\n",
        "flat_true_labels = [item for sublist in true_labels for item in sublist]\n",
        "\n",
        "matthews_corrcoef(flat_true_labels , flat_predictions)"
      ]
    },
    {
      "cell_type": "code",
      "execution_count": null,
      "metadata": {
        "colab": {},
        "colab_type": "code",
        "id": "toZpJTGevWpO"
      },
      "outputs": [],
      "source": [
        "# https://pytorch.org/tutorials/beginner/saving_loading_models.html\n",
        "\n",
        "torch.save(model.state_dict(), 'bert-based-uncased-GED.pth')"
      ]
    },
    {
      "cell_type": "code",
      "execution_count": null,
      "metadata": {
        "colab": {
          "base_uri": "https://localhost:8080/",
          "height": 122
        },
        "colab_type": "code",
        "id": "Y6YXtvnPwBcf",
        "outputId": "12b74d64-7e57-4473-8080-ed9096957c62"
      },
      "outputs": [
        {
          "name": "stdout",
          "output_type": "stream",
          "text": [
            "Go to this URL in a browser: https://accounts.google.com/o/oauth2/auth?client_id=947318989803-6bn6qk8qdgf4n4g3pfee6491hc0brc4i.apps.googleusercontent.com&redirect_uri=urn%3Aietf%3Awg%3Aoauth%3A2.0%3Aoob&scope=email%20https%3A%2F%2Fwww.googleapis.com%2Fauth%2Fdocs.test%20https%3A%2F%2Fwww.googleapis.com%2Fauth%2Fdrive%20https%3A%2F%2Fwww.googleapis.com%2Fauth%2Fdrive.photos.readonly%20https%3A%2F%2Fwww.googleapis.com%2Fauth%2Fpeopleapi.readonly&response_type=code\n",
            "\n",
            "Enter your authorization code:\n",
            "··········\n",
            "Mounted at /content/drive\n"
          ]
        }
      ],
      "source": [
        "from google.colab import drive\n",
        "drive.mount('/content/drive')"
      ]
    },
    {
      "cell_type": "code",
      "execution_count": null,
      "metadata": {
        "colab": {},
        "colab_type": "code",
        "id": "a-JQTqGwwY1s"
      },
      "outputs": [],
      "source": [
        "!cp bert-based-uncased-GED.pth './drive/My Drive/Colab Notebooks/S89A'"
      ]
    },
    {
      "cell_type": "code",
      "execution_count": null,
      "metadata": {
        "colab": {},
        "colab_type": "code",
        "id": "s4ZBpq42tVOV"
      },
      "outputs": [],
      "source": [
        "# run on a sample text\n",
        "\n",
        "model.eval()\n",
        "\n",
        "# Create sentence) and label lists\n",
        "sentences = [\"They drank the pub.\"]\n",
        "# We need to add special tokens at the beginning and end of each sentence\n",
        "# for BERT to work properly\n",
        "sentences = [\"[CLS] \" + sentence + \" [SEP]\" for sentence in sentences]\n",
        "labels =[0]\n",
        "\n",
        "tokenized_texts = [tokenizer.tokenize(sent) for sent in sentences]\n",
        "\n",
        "# Padding Sentences\n",
        "# Set the maximum sequence length. The longest sequence in our training set\n",
        "# is 47, but we'll leave room on the end anyway.\n",
        "# In the original paper, the authors used a length of 512.\n",
        "MAX_LEN = 128\n",
        "\n",
        "predictions = []\n",
        "true_labels = []\n",
        "\n",
        "# Pad our input tokens\n",
        "input_ids = pad_sequences(\n",
        "    [tokenizer.convert_tokens_to_ids(txt) for txt in tokenized_texts], \n",
        "    maxlen=MAX_LEN, dtype=\"long\", truncating=\"post\", padding=\"post\"\n",
        "    )\n",
        "\n",
        "# Index Numbers and Padding\n",
        "input_ids = [tokenizer.convert_tokens_to_ids(x) for x in tokenized_texts]\n",
        "\n",
        "# pad sentences\n",
        "input_ids = pad_sequences(input_ids, maxlen=MAX_LEN, \n",
        "                          dtype =\"long\", truncating=\"post\",padding =\"post\")\n",
        "\n",
        "# Attention masks\n",
        "\n",
        "# Create attention masks\n",
        "attention_masks = []\n",
        "\n",
        "# Create a mask of 1s for each token followed by 0s for padding\n",
        "for seq in input_ids:\n",
        "  seq_mask = [float(i > 0) for i in seq]\n",
        "  attention_masks.append(seq_mask)\n",
        "\n",
        "prediction_inputs = torch.tensor(input_ids)\n",
        "prediction_masks = torch.tensor(attention_masks)\n",
        "prediction_labels = torch.tensor(labels)\n",
        "\n",
        "# Put model in evaluation mode\n",
        "model.eval()\n",
        "\n",
        "with torch.no_grad():\n",
        "  # Forward pass, calculate logit predictions\n",
        "  logits = model(prediction_inputs.to(device), token_type_ids=None, attention_mask=prediction_masks.to(device))\n",
        "\n",
        "# Move logits and labels to CPU\n",
        "logits = logits.detach().cpu().numpy()\n",
        "label_ids = b_labels.to(\"cpu\").numpy()\n",
        "\n",
        "# Store predictions and true labels\n",
        "predictions.append(logits)\n",
        "true_labels.append(label_ids)\n",
        "\n",
        "flat_predictions = [item for sublist in predictions for item in sublist]\n",
        "flat_predictions = np.argmax(flat_predictions, axis=1).flatten()\n",
        "flat_true_labels = [item for sublist in true_labels for item in sublist]\n"
      ]
    },
    {
      "cell_type": "code",
      "execution_count": null,
      "metadata": {
        "colab": {
          "base_uri": "https://localhost:8080/",
          "height": 34
        },
        "colab_type": "code",
        "id": "G7J_Witad9u5",
        "outputId": "760038bd-b28a-403e-c7a8-26b0afaa545b"
      },
      "outputs": [
        {
          "data": {
            "text/plain": [
              "0"
            ]
          },
          "execution_count": 34,
          "metadata": {
            "tags": []
          },
          "output_type": "execute_result"
        }
      ],
      "source": [
        "flat_predictions[0]"
      ]
    }
  ],
  "metadata": {
    "accelerator": "GPU",
    "colab": {
      "collapsed_sections": [],
      "name": "BERT_GED_Model.ipynb",
      "provenance": [],
      "version": "0.3.2"
    },
    "kernelspec": {
      "display_name": "Python 3",
      "name": "python3"
    },
    "language_info": {
      "codemirror_mode": {
        "name": "ipython",
        "version": 3
      },
      "file_extension": ".py",
      "mimetype": "text/x-python",
      "name": "python",
      "nbconvert_exporter": "python",
      "pygments_lexer": "ipython3",
      "version": "3.9.7"
    }
  },
  "nbformat": 4,
  "nbformat_minor": 0
}
